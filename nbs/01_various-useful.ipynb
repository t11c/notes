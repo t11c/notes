{
 "cells": [
  {
   "cell_type": "markdown",
   "id": "b7a9a2d1-f647-4290-86e1-9587d6adb233",
   "metadata": {},
   "source": [
    "# Various Useful"
   ]
  },
  {
   "cell_type": "markdown",
   "id": "a3ee1898-5a85-4e42-8edc-78006bd95ca7",
   "metadata": {},
   "source": [
    "## Extract the audio from youtube, vimeo, etc.\n",
    "\n",
    "source: [https://stackoverflow.com/a/64526840/5345691](https://stackoverflow.com/a/64526840/5345691)"
   ]
  },
  {
   "cell_type": "markdown",
   "id": "147cf032-10ed-49f2-8974-6383a34783ee",
   "metadata": {},
   "source": [
    "    youtube-dl -f \"bestaudio/best\" -ciw -o \"%(title)s.%(ext)s\" -v --extract-audio --audio-quality 0 --audio-format mp3 <link>"
   ]
  },
  {
   "cell_type": "code",
   "execution_count": null,
   "id": "fdf8f4dc-ef07-4b19-8a07-4398cbc66df7",
   "metadata": {},
   "outputs": [],
   "source": []
  }
 ],
 "metadata": {
  "kernelspec": {
   "display_name": "notes",
   "language": "python",
   "name": "notes"
  },
  "language_info": {
   "codemirror_mode": {
    "name": "ipython",
    "version": 3
   },
   "file_extension": ".py",
   "mimetype": "text/x-python",
   "name": "python",
   "nbconvert_exporter": "python",
   "pygments_lexer": "ipython3",
   "version": "3.11.0a7"
  }
 },
 "nbformat": 4,
 "nbformat_minor": 5
}
