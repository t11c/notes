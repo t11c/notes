{
 "cells": [
  {
   "cell_type": "raw",
   "id": "d79c2440-9d0c-434b-a256-5b4f00293d60",
   "metadata": {},
   "source": [
    "---\n",
    "title: \"First Post\"\n",
    "author: \"tom\"\n",
    "date: \"2022-12-27\"\n",
    "description: \"Post description\"\n",
    "---"
   ]
  },
  {
   "cell_type": "markdown",
   "id": "a047161b-3c2b-4e4e-8ff5-b880726fb37d",
   "metadata": {},
   "source": [
    "A short overwiew"
   ]
  },
  {
   "cell_type": "markdown",
   "id": "e708f6ad-d858-4512-9cae-3f7ea62a06c1",
   "metadata": {},
   "source": [
    "Using Pipenv\n",
    "\n",
    "https://forums.fast.ai/t/guide-reproducible-environment-in-nbdev-with-pipenv/102742"
   ]
  },
  {
   "cell_type": "code",
   "execution_count": null,
   "id": "6b326617-d954-40a5-84d5-554ecb701189",
   "metadata": {},
   "outputs": [],
   "source": []
  }
 ],
 "metadata": {
  "kernelspec": {
   "display_name": "notes",
   "language": "python",
   "name": "notes"
  }
 },
 "nbformat": 4,
 "nbformat_minor": 5
}